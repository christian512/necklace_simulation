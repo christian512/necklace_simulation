{
 "cells": [
  {
   "cell_type": "code",
   "execution_count": 1,
   "metadata": {},
   "outputs": [],
   "source": [
    "import numpy as np \n",
    "import matplotlib.pyplot as plt\n",
    "from necklace_model import Necklace\n",
    "from simulated_annealing import Annealer\n",
    "%load_ext snakeviz\n",
    "import time"
   ]
  },
  {
   "cell_type": "code",
   "execution_count": 3,
   "metadata": {},
   "outputs": [],
   "source": [
    "# Set the main variables\n",
    "N = 100 # Ensemble size\n",
    "n = 100000 # Number of temperature steps"
   ]
  },
  {
   "cell_type": "markdown",
   "metadata": {},
   "source": [
    "### Problem 2a\n",
    "Given an infinite temperature, the metropolis algorithm accepts any new state of the necklace. Therefore the simulated annealing, with a constant infinite temperature, is equal to a random search and can only result in the global minimum if the algorithm directly hits it (with luck)."
   ]
  },
  {
   "cell_type": "code",
   "execution_count": 4,
   "metadata": {},
   "outputs": [
    {
     "data": {
      "image/png": "[encoded data removed]",
      "text/plain": [
       "<Figure size 432x288 with 1 Axes>"
      ]
     },
     "metadata": {
      "needs_background": "light"
     },
     "output_type": "display_data"
    }
   ],
   "source": [
    "temps = np.repeat(np.inf,n)\n",
    "nkl = Necklace(20,2)\n",
    "anl = Annealer()\n",
    "anl.set_model(nkl)\n",
    "anl.set_temps(temps)\n",
    "energyArr,energyVBSF = anl.run(N)\n",
    "plt.plot(energyArr,label='Average Energy')\n",
    "plt.plot(energyVBSF,label='Lowest Energy')\n",
    "plt.legend()\n",
    "plt.title('T = infinity')\n",
    "plt.savefig('plots/problem2a.png')"
   ]
  },
  {
   "cell_type": "markdown",
   "metadata": {},
   "source": [
    "### Problem 2b\n",
    "At zero temperature, the metropolis algorithm only accepts new states with smaller energy. Hence the energy decreases directly, but might be trapped in a local minimum. If the global minimum can only be reached with going up a hill, the algorithm will never find it."
   ]
  },
  {
   "cell_type": "code",
   "execution_count": 5,
   "metadata": {},
   "outputs": [
    {
     "data": {
      "image/png": "[encoded data removed]",
      "text/plain": [
       "<Figure size 432x288 with 1 Axes>"
      ]
     },
     "metadata": {
      "needs_background": "light"
     },
     "output_type": "display_data"
    }
   ],
   "source": [
    "temps = np.repeat(0,n)\n",
    "nkl = Necklace(20,2)\n",
    "anl = Annealer()\n",
    "anl.set_model(nkl)\n",
    "anl.set_temps(temps)\n",
    "energyArr,energyVBSFArr = anl.run(N)\n",
    "plt.plot(energyArr,label='Average Energy')\n",
    "plt.plot(energyVBSFArr,label='Lowest Energy')\n",
    "plt.legend()\n",
    "plt.title('T = 0')\n",
    "plt.savefig('plots/problem2b.png')"
   ]
  },
  {
   "cell_type": "markdown",
   "metadata": {},
   "source": [
    "### Problem 2c\n",
    "We use the boundaries $T(t=0) = 40$ and $T(t=99999) = 0.5$ to calculate the values of $a,b$. The exponential decay of the temperature gives the annealing process some time to jump over \"hills\" in the energy landscape, but gets very small for higher time steps. Hence in the end it is not possible to jump away from a local minimum and get to the global one."
   ]
  },
  {
   "cell_type": "code",
   "execution_count": null,
   "metadata": {},
   "outputs": [],
   "source": [
    "temps = np.linspace(0,n,n)\n",
    "b = -np.max(temps)/np.log(0.5/40)\n",
    "temps = 40*np.exp(-temps/b)\n",
    "plt.plot(temps,label = 'Temperature')\n",
    "nkl = Necklace(20,2)\n",
    "anl = Annealer()\n",
    "anl.set_model(nkl)\n",
    "anl.set_temps(temps)\n",
    "%snakeviz energyArr,energyVBSFArr = anl.run(n)\n",
    "plt.plot(energyArr, label = 'Average Energy')\n",
    "plt.plot(energyVBSFArr, label='Lowest energy')\n",
    "plt.legend()\n",
    "plt.savefig('plots/problem2c.png')"
   ]
  },
  {
   "cell_type": "markdown",
   "metadata": {},
   "source": [
    "### Problem 2d\n",
    "$a,b$ are calculated by the boundary conditions as above. "
   ]
  },
  {
   "cell_type": "code",
   "execution_count": null,
   "metadata": {},
   "outputs": [],
   "source": [
    "temps = np.linspace(0,n,n)\n",
    "b = 39.5/(0.5*np.max(temps))\n",
    "temps = 40/(1+b*temps)\n",
    "plt.plot(temps,label = 'Temperature')\n",
    "nkl = Necklace(20,2)\n",
    "anl = Annealer()\n",
    "anl.set_model(nkl)\n",
    "anl.set_temps(temps)\n",
    "energyArr,energyVBSFArr = anl.run(n)\n",
    "plt.plot(energyArr, label = 'Average Energy')\n",
    "plt.plot(energyVBSFArr, label='Lowest energy')\n",
    "plt.legend()\n",
    "plt.savefig('plots/problem2d.png')"
   ]
  },
  {
   "cell_type": "markdown",
   "metadata": {},
   "source": [
    "### Problem 2e"
   ]
  },
  {
   "cell_type": "code",
   "execution_count": null,
   "metadata": {},
   "outputs": [],
   "source": [
    "temps = np.linspace(0,n,n)\n",
    "b = 39.5/(0.5*np.log(np.max(temps)+1))\n",
    "temps = 40/(1+b*np.log(temps+1))\n",
    "plt.plot(temps,label = 'Temperature')\n",
    "nkl = Necklace(20,2)\n",
    "anl = Annealer()\n",
    "anl.set_model(nkl)\n",
    "anl.set_temps(temps)\n",
    "%snakeviz energyArr,energyVBSFArr = anl.run(n)\n",
    "plt.plot(energyArr, label = 'Average Energy')\n",
    "plt.plot(energyVBSFArr, label='Lowest energy')\n",
    "plt.legend()\n",
    "plt.savefig('plots/problem2e.png')"
   ]
  },
  {
   "cell_type": "markdown",
   "metadata": {},
   "source": [
    "## Temperature plots\n"
   ]
  },
  {
   "cell_type": "code",
   "execution_count": null,
   "metadata": {},
   "outputs": [],
   "source": [
    "temps = np.linspace(0,n,n)\n",
    "b = -np.max(temps)/np.log(0.5/40)\n",
    "temps_c = 40*np.exp(-temps/b)\n",
    "b = 39.5/(0.5*np.max(temps))\n",
    "temps_d = 40/(1+b*temps)\n",
    "b = 39.5/(0.5*np.log(np.max(temps)+1))\n",
    "temps_e = 40/(1+b*np.log(temps+1))\n",
    "\n",
    "plt.plot(temps_c,label='c')\n",
    "plt.plot(temps_d,label='d')\n",
    "plt.plot(temps_e,label='e')"
   ]
  },
  {
   "cell_type": "code",
   "execution_count": null,
   "metadata": {},
   "outputs": [],
   "source": []
  }
 ],
 "metadata": {
  "kernelspec": {
   "display_name": "Python 3",
   "language": "python",
   "name": "python3"
  },
  "language_info": {
   "codemirror_mode": {
    "name": "ipython",
    "version": 3
   },
   "file_extension": ".py",
   "mimetype": "text/x-python",
   "name": "python",
   "nbconvert_exporter": "python",
   "pygments_lexer": "ipython3",
   "version": "3.7.0"
  }
 },
 "nbformat": 4,
 "nbformat_minor": 2
}
